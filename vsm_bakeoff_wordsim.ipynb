{
 "cells": [
  {
   "cell_type": "markdown",
   "metadata": {},
   "source": [
    "# Bake-off: Word similarity tasks"
   ]
  },
  {
   "cell_type": "code",
   "execution_count": 3,
   "metadata": {
    "collapsed": true
   },
   "outputs": [],
   "source": [
    "__author__ = \"Christopher Potts\"\n",
    "__version__ = \"CS224u, Stanford, Spring 2018 term\""
   ]
  },
  {
   "cell_type": "markdown",
   "metadata": {},
   "source": [
    "## Contents\n",
    "\n",
    "0. [Overview](#Overview)\n",
    "0. [Evaluation](#Evaluation)\n",
    "0. [Set-up](#Set-up)\n",
    "0. [Dataset readers](#Dataset-readers)\n",
    "0. [Evaluation](#Evaluation)\n",
    "0. [Baseline](#Baseline)\n",
    "0. [Bake-off submission](#Bake-off-submission)"
   ]
  },
  {
   "cell_type": "markdown",
   "metadata": {},
   "source": [
    "## Overview\n",
    "\n",
    "Word similarity datasets have long been used to evaluate distributed representations. This section provides basic code for conducting such analyses with four datasets:\n",
    "\n",
    "* [WordSim-353](http://www.cs.technion.ac.il/~gabr/resources/data/wordsim353/)\n",
    "* MTurk-287\n",
    "* [MTurk-771](http://www2.mta.ac.il/~gideon/mturk771.html)\n",
    "* [The MEN Test Collection](http://clic.cimec.unitn.it/~elia.bruni/MEN) (3,000 pairs)\n",
    "\n",
    "For the first three, the numeral in its name is the number of pairs it contains.\n",
    "\n",
    "If you want to push this task further, consider using additional datasets from http://wordvectors.org/ and perhaps even taking advantage of the evaluation infrastructure it provides. (For additional details, see [the associated paper](http://www.aclweb.org/anthology/P/P14/P14-5004.pdf).)"
   ]
  },
  {
   "cell_type": "markdown",
   "metadata": {},
   "source": [
    "## Evaluation\n",
    "\n",
    "1. Each of the similarity datasets contains word pairs with an associated human-annotated similarity score. (We convert these to distances to align intuitively with our distance measure functions.)\n",
    "\n",
    "1. The evaluation code measures the distance between the word pairs in your chosen VSM (should be a `pd.DataFrame`).\n",
    "\n",
    "1. The evaluation metric is the Spearman correlation coefficient between the annotated scores and your distances.\n",
    "\n",
    "1. We also macro-average these correlations across the four datasets for an overall summary.\n",
    "\n",
    "Based on my reading of the literature, I'd say that the best VSMs report scores in this range:\n",
    "\n",
    "| Dataset       | Competitive scores |\n",
    "|---------------|--------------------|\n",
    "| WordSim-353   | ≈0.75        |\n",
    "| MTurk-287     | ≈0.75        |\n",
    "| MTurk-771     | ≈0.75        |\n",
    "| MEN           | ≈0.70        |\n",
    "\n",
    "Your scores won't quite be comparable because you'll be missing a few vocabulary items, but these are still good targets."
   ]
  },
  {
   "cell_type": "markdown",
   "metadata": {},
   "source": [
    "## Set-up"
   ]
  },
  {
   "cell_type": "code",
   "execution_count": 4,
   "metadata": {
    "collapsed": true
   },
   "outputs": [],
   "source": [
    "from collections import defaultdict\n",
    "import csv\n",
    "import numpy as np\n",
    "import os\n",
    "import pandas as pd\n",
    "from scipy.stats import spearmanr\n",
    "import vsm"
   ]
  },
  {
   "cell_type": "code",
   "execution_count": 5,
   "metadata": {
    "collapsed": true
   },
   "outputs": [],
   "source": [
    "data_home = 'vsmdata'\n",
    "\n",
    "wordsim_home = os.path.join('vsmdata', 'wordsim')"
   ]
  },
  {
   "cell_type": "markdown",
   "metadata": {},
   "source": [
    "## Dataset readers"
   ]
  },
  {
   "cell_type": "code",
   "execution_count": 6,
   "metadata": {
    "collapsed": true
   },
   "outputs": [],
   "source": [
    "def wordsim_dataset_reader(src_filename, header=False, delimiter=','):    \n",
    "    \"\"\"Basic reader that works for all four files, since they all have the \n",
    "    format word1,word2,score, differing only in whether or not they include \n",
    "    a header line and what delimiter they use.\n",
    "    \n",
    "    Parameters\n",
    "    ----------\n",
    "    src_filename : str\n",
    "        Full path to the source file.        \n",
    "    header : bool (default: False)\n",
    "        Whether `src_filename` has a header.        \n",
    "    delimiter : str (default: ',')\n",
    "        Field delimiter in `src_filename`.\n",
    "    \n",
    "    Yields\n",
    "    ------    \n",
    "    (str, str, float)\n",
    "       (w1, w2, score) where `score` is the negative of the similarity \n",
    "       score in the file so that we are intuitively aligned with our \n",
    "       distance-based code.\n",
    "    \n",
    "    \"\"\"\n",
    "    with open(src_filename) as f:\n",
    "        reader = csv.reader(f, delimiter=delimiter)\n",
    "        if header:\n",
    "            next(reader)\n",
    "        for row in reader:\n",
    "            w1, w2, score = row\n",
    "            # Negative of scores to align intuitively with distance functions:\n",
    "            score = -float(score)\n",
    "            yield (w1, w2, score)\n",
    "\n",
    "def wordsim353_reader():\n",
    "    \"\"\"WordSim-353: http://www.cs.technion.ac.il/~gabr/resources/data/wordsim353/\"\"\"\n",
    "    src_filename = os.path.join(wordsim_home, 'wordsim353.csv')\n",
    "    return wordsim_dataset_reader(src_filename, header=True)\n",
    " \n",
    "def mturk287_reader():\n",
    "    \"\"\"MTurk-287: http://tx.technion.ac.il/~kirar/Datasets.html\"\"\"\n",
    "    src_filename = os.path.join(wordsim_home, 'MTurk-287.csv')\n",
    "    return wordsim_dataset_reader(src_filename, header=False)\n",
    "    \n",
    "def mturk771_reader():\n",
    "    \"\"\"MTURK-771: http://www2.mta.ac.il/~gideon/mturk771.html\"\"\"\n",
    "    src_filename = os.path.join(wordsim_home, 'MTURK-771.csv')\n",
    "    return wordsim_dataset_reader(src_filename, header=False)\n",
    "\n",
    "def men_reader():\n",
    "    \"\"\"MEN: http://clic.cimec.unitn.it/~elia.bruni/MEN\"\"\"\n",
    "    src_filename = os.path.join(wordsim_home, 'MEN_dataset_natural_form_full')\n",
    "    return wordsim_dataset_reader(src_filename, header=False, delimiter=' ')   "
   ]
  },
  {
   "cell_type": "markdown",
   "metadata": {
    "collapsed": true
   },
   "source": [
    "## Evaluation"
   ]
  },
  {
   "cell_type": "code",
   "execution_count": 7,
   "metadata": {
    "collapsed": true
   },
   "outputs": [],
   "source": [
    "def word_similarity_evaluation(reader, df, distfunc=vsm.cosine, verbose=True):\n",
    "    \"\"\"Word-similarity evalution framework.\n",
    "    \n",
    "    Parameters\n",
    "    ----------\n",
    "    reader : iterator\n",
    "        A reader for a word-similarity dataset. Just has to yield\n",
    "        tuples (word1, word2, score).    \n",
    "    df : pd.DataFrame\n",
    "        The VSM being evaluated.        \n",
    "    distfunc : function mapping vector pairs to floats (default: `vsm.cosine`)\n",
    "        The measure of distance between vectors. Can also be `vsm.euclidean`, \n",
    "        `vsm.matching`, `vsm.jaccard`, as well as any other distance measure \n",
    "        between 1d vectors.  \n",
    "    verbose : bool\n",
    "        Whether to print information about how much of the vocab\n",
    "        `df` covers.\n",
    "    \n",
    "    Prints\n",
    "    ------\n",
    "    To standard output\n",
    "        Size of the vocabulary overlap between the evaluation set and\n",
    "        rownames. We limit the evalation to the overlap, paying no price\n",
    "        for missing words (which is not fair, but it's reasonable given\n",
    "        that we're working with very small VSMs in this notebook).\n",
    "    \n",
    "    Returns\n",
    "    -------\n",
    "    float\n",
    "        The Spearman rank correlation coefficient between the dataset\n",
    "        scores and the similarity values obtained from `mat` using \n",
    "        `distfunc`. This evaluation is sensitive only to rankings, not\n",
    "        to absolute values.\n",
    "    \n",
    "    \"\"\"    \n",
    "    sims = defaultdict(list)\n",
    "    rownames = df.index\n",
    "    vocab = set()    \n",
    "    excluded = set()\n",
    "    for w1, w2, score in reader():\n",
    "        if w1 in rownames and w2 in rownames:\n",
    "            sims[w1].append((w2, score))\n",
    "            sims[w2].append((w1, score))\n",
    "            vocab |= {w1, w2}\n",
    "        else:\n",
    "            excluded |= {w1, w2}\n",
    "    all_words = vocab | excluded\n",
    "    if verbose:\n",
    "        print(\"Evaluation vocab: {:,} of {:,}\".format(len(vocab), len(all_words)))\n",
    "    # Evaluate the matrix by creating a vector of all_scores for data\n",
    "    # and all_dists for mat's distances. \n",
    "    all_scores = []\n",
    "    all_dists = []\n",
    "    for word in vocab:\n",
    "        vec = df.loc[word]\n",
    "        vals = sims[word]\n",
    "        cmps, scores = zip(*vals)\n",
    "        all_scores += scores\n",
    "        all_dists += [distfunc(vec, df.loc[w]) for w in cmps]\n",
    "    #print(all_scores, all_dists)\n",
    "    rho, pvalue = spearmanr(all_scores, all_dists)\n",
    "    return rho"
   ]
  },
  {
   "cell_type": "markdown",
   "metadata": {},
   "source": [
    "Evaluation is then simple. The following lets us evaluate a VSM against all four datasets:"
   ]
  },
  {
   "cell_type": "code",
   "execution_count": 8,
   "metadata": {
    "collapsed": true
   },
   "outputs": [],
   "source": [
    "def full_word_similarity_evaluation(df, verbose=True):\n",
    "    \"\"\"Evaluate a VSM against all four datasets.\n",
    "    \n",
    "    Parameters\n",
    "    ----------\n",
    "    df : pd.DataFrame\n",
    "    \n",
    "    Returns\n",
    "    -------\n",
    "    dict\n",
    "        Mapping dataset names to Spearman r values\n",
    "        \n",
    "    \"\"\"        \n",
    "    scores = {}\n",
    "    for reader in (wordsim353_reader, mturk287_reader, mturk771_reader, men_reader):        \n",
    "        if verbose: \n",
    "            print(\"=\"*40)\n",
    "            print(reader.__name__)\n",
    "        score = word_similarity_evaluation(reader, df, verbose=verbose)\n",
    "        scores[reader.__name__] = score\n",
    "        if verbose:            \n",
    "            print('Spearman r: {0:0.03f}'.format(score))\n",
    "    mu = np.array(list(scores.values())).mean()\n",
    "    if verbose:\n",
    "        print(\"=\"*40)\n",
    "        print(\"Mean Spearman r: {0:0.03f}\".format(mu))\n",
    "    return scores"
   ]
  },
  {
   "cell_type": "markdown",
   "metadata": {},
   "source": [
    "## Baseline\n",
    "\n",
    "My baseline is PPMI on `imdb20`:"
   ]
  },
  {
   "cell_type": "code",
   "execution_count": 9,
   "metadata": {
    "collapsed": true
   },
   "outputs": [],
   "source": [
    "imdb20 = pd.read_csv(\n",
    "    os.path.join(data_home, \"imdb_window20-flat.csv.gz\"), index_col=0)"
   ]
  },
  {
   "cell_type": "code",
   "execution_count": 10,
   "metadata": {
    "collapsed": true
   },
   "outputs": [],
   "source": [
    "imdb5 = pd.read_csv(\n",
    "    os.path.join(data_home, 'imdb_window5-scaled.csv.gz'), index_col=0)"
   ]
  },
  {
   "cell_type": "code",
   "execution_count": 11,
   "metadata": {
    "collapsed": true
   },
   "outputs": [],
   "source": [
    "giga5 = pd.read_csv(\n",
    "    os.path.join(data_home, 'gigaword_window5-scaled.csv.gz'), index_col=0)"
   ]
  },
  {
   "cell_type": "code",
   "execution_count": 12,
   "metadata": {
    "collapsed": true
   },
   "outputs": [],
   "source": [
    "giga20 = pd.read_csv(\n",
    "    os.path.join(data_home, 'gigaword_window20-flat.csv.gz'), index_col=0)"
   ]
  },
  {
   "cell_type": "code",
   "execution_count": 13,
   "metadata": {
    "collapsed": true
   },
   "outputs": [],
   "source": [
    "imdb20_ppmi = vsm.pmi(imdb20)"
   ]
  },
  {
   "cell_type": "code",
   "execution_count": 14,
   "metadata": {
    "collapsed": false
   },
   "outputs": [
    {
     "name": "stdout",
     "output_type": "stream",
     "text": [
      "========================================\n",
      "wordsim353_reader\n",
      "Evaluation vocab: 418 of 437\n",
      "Spearman r: 0.469\n",
      "========================================\n",
      "mturk287_reader\n",
      "Evaluation vocab: 499 of 499\n",
      "Spearman r: 0.599\n",
      "========================================\n",
      "mturk771_reader\n",
      "Evaluation vocab: 1,113 of 1,113\n",
      "Spearman r: 0.462\n",
      "========================================\n",
      "men_reader\n",
      "Evaluation vocab: 751 of 751\n",
      "Spearman r: 0.572\n",
      "========================================\n",
      "Mean Spearman r: 0.525\n"
     ]
    },
    {
     "data": {
      "text/plain": [
       "{'wordsim353_reader': 0.46888766456156583,\n",
       " 'mturk287_reader': 0.5986597600532505,\n",
       " 'mturk771_reader': 0.4615212813179131,\n",
       " 'men_reader': 0.5724487594295152}"
      ]
     },
     "execution_count": 14,
     "metadata": {},
     "output_type": "execute_result"
    }
   ],
   "source": [
    "full_word_similarity_evaluation(imdb20_ppmi, verbose=True)"
   ]
  },
  {
   "cell_type": "code",
   "execution_count": 15,
   "metadata": {
    "collapsed": false
   },
   "outputs": [],
   "source": [
    "giga20_ppmi = vsm.pmi(giga20)\n",
    "giga20_pmi = vsm.pmi(giga20, positive=False)"
   ]
  },
  {
   "cell_type": "code",
   "execution_count": 16,
   "metadata": {
    "collapsed": false
   },
   "outputs": [
    {
     "name": "stdout",
     "output_type": "stream",
     "text": [
      "========================================\n",
      "wordsim353_reader\n",
      "Evaluation vocab: 418 of 437\n",
      "Spearman r: 0.469\n",
      "========================================\n",
      "mturk287_reader\n",
      "Evaluation vocab: 499 of 499\n",
      "Spearman r: 0.599\n",
      "========================================\n",
      "mturk771_reader\n",
      "Evaluation vocab: 1,113 of 1,113\n",
      "Spearman r: 0.462\n",
      "========================================\n",
      "men_reader\n",
      "Evaluation vocab: 751 of 751\n",
      "Spearman r: 0.572\n",
      "========================================\n",
      "Mean Spearman r: 0.525\n"
     ]
    },
    {
     "data": {
      "text/plain": [
       "{'wordsim353_reader': 0.46888766456156583,\n",
       " 'mturk287_reader': 0.5986597600532505,\n",
       " 'mturk771_reader': 0.4615212813179131,\n",
       " 'men_reader': 0.5724487594295152}"
      ]
     },
     "execution_count": 16,
     "metadata": {},
     "output_type": "execute_result"
    }
   ],
   "source": [
    "full_word_similarity_evaluation(imdb20_ppmi, verbose=True)"
   ]
  },
  {
   "cell_type": "code",
   "execution_count": 17,
   "metadata": {
    "collapsed": false
   },
   "outputs": [
    {
     "name": "stdout",
     "output_type": "stream",
     "text": [
      "========================================\n",
      "wordsim353_reader\n",
      "Evaluation vocab: 418 of 437\n",
      "Spearman r: 0.516\n",
      "========================================\n",
      "mturk287_reader\n",
      "Evaluation vocab: 499 of 499\n",
      "Spearman r: 0.572\n",
      "========================================\n",
      "mturk771_reader\n",
      "Evaluation vocab: 1,113 of 1,113\n",
      "Spearman r: 0.509\n",
      "========================================\n",
      "men_reader\n",
      "Evaluation vocab: 751 of 751\n",
      "Spearman r: 0.641\n",
      "========================================\n",
      "Mean Spearman r: 0.560\n"
     ]
    },
    {
     "data": {
      "text/plain": [
       "{'wordsim353_reader': 0.5164604975309708,\n",
       " 'mturk287_reader': 0.5715366313256979,\n",
       " 'mturk771_reader': 0.5091557515073646,\n",
       " 'men_reader': 0.6412631753467933}"
      ]
     },
     "execution_count": 17,
     "metadata": {},
     "output_type": "execute_result"
    }
   ],
   "source": [
    "imdb20_svd = vsm.lsa(imdb20_ppmi, k=100)\n",
    "full_word_similarity_evaluation(imdb20_svd, verbose=True)"
   ]
  },
  {
   "cell_type": "code",
   "execution_count": 18,
   "metadata": {
    "collapsed": false
   },
   "outputs": [
    {
     "name": "stdout",
     "output_type": "stream",
     "text": [
      "========================================\n",
      "wordsim353_reader\n",
      "Evaluation vocab: 418 of 437\n",
      "Spearman r: 0.439\n",
      "========================================\n",
      "mturk287_reader\n",
      "Evaluation vocab: 499 of 499\n",
      "Spearman r: 0.563\n",
      "========================================\n",
      "mturk771_reader\n",
      "Evaluation vocab: 1,113 of 1,113\n",
      "Spearman r: 0.424\n",
      "========================================\n",
      "men_reader\n",
      "Evaluation vocab: 751 of 751\n",
      "Spearman r: 0.508\n",
      "========================================\n",
      "Mean Spearman r: 0.483\n"
     ]
    },
    {
     "data": {
      "text/plain": [
       "{'wordsim353_reader': 0.4387099748544101,\n",
       " 'mturk287_reader': 0.562814566590576,\n",
       " 'mturk771_reader': 0.4240544672963419,\n",
       " 'men_reader': 0.5076421623177335}"
      ]
     },
     "execution_count": 18,
     "metadata": {},
     "output_type": "execute_result"
    }
   ],
   "source": [
    "giga20_svd = vsm.lsa(giga20_pmi, k=100)\n",
    "full_word_similarity_evaluation(giga20_svd, verbose=True)"
   ]
  },
  {
   "cell_type": "code",
   "execution_count": 19,
   "metadata": {
    "collapsed": false
   },
   "outputs": [
    {
     "name": "stderr",
     "output_type": "stream",
     "text": [
      "Iteration 500: loss: 18640.4765625"
     ]
    }
   ],
   "source": [
    "from mittens import GloVe\n",
    "glove_model = GloVe(max_iter=500, n=100)\n",
    "giga20_glv = glove_model.fit(giga20_ppmi.values)\n",
    "giga20_glv = pd.DataFrame(giga20_glv, index=giga20.index)"
   ]
  },
  {
   "cell_type": "code",
   "execution_count": 20,
   "metadata": {
    "collapsed": false
   },
   "outputs": [
    {
     "name": "stdout",
     "output_type": "stream",
     "text": [
      "========================================\n",
      "wordsim353_reader\n",
      "Evaluation vocab: 418 of 437\n",
      "Spearman r: 0.601\n",
      "========================================\n",
      "mturk287_reader\n",
      "Evaluation vocab: 499 of 499\n",
      "Spearman r: 0.677\n",
      "========================================\n",
      "mturk771_reader\n",
      "Evaluation vocab: 1,113 of 1,113\n",
      "Spearman r: 0.592\n",
      "========================================\n",
      "men_reader\n",
      "Evaluation vocab: 751 of 751\n",
      "Spearman r: 0.709\n",
      "========================================\n",
      "Mean Spearman r: 0.645\n"
     ]
    },
    {
     "data": {
      "text/plain": [
       "{'wordsim353_reader': 0.6009685952607141,\n",
       " 'mturk287_reader': 0.6767517089546127,\n",
       " 'mturk771_reader': 0.5920672636980377,\n",
       " 'men_reader': 0.7085668582508746}"
      ]
     },
     "execution_count": 20,
     "metadata": {},
     "output_type": "execute_result"
    }
   ],
   "source": [
    "full_word_similarity_evaluation(giga20_glv, verbose=True)"
   ]
  },
  {
   "cell_type": "code",
   "execution_count": 21,
   "metadata": {
    "collapsed": false
   },
   "outputs": [
    {
     "name": "stderr",
     "output_type": "stream",
     "text": [
      "Iteration 500: loss: 12870.044921875"
     ]
    }
   ],
   "source": [
    "glove_model_200 = GloVe(max_iter=500, n=200)\n",
    "giga20_glv_200 = glove_model_200.fit(giga20_ppmi.values)\n",
    "giga20_glv_200 = pd.DataFrame(giga20_glv_200, index=giga20.index)"
   ]
  },
  {
   "cell_type": "code",
   "execution_count": 22,
   "metadata": {
    "collapsed": false
   },
   "outputs": [
    {
     "name": "stdout",
     "output_type": "stream",
     "text": [
      "========================================\n",
      "wordsim353_reader\n",
      "Evaluation vocab: 418 of 437\n",
      "Spearman r: 0.614\n",
      "========================================\n",
      "mturk287_reader\n",
      "Evaluation vocab: 499 of 499\n",
      "Spearman r: 0.651\n",
      "========================================\n",
      "mturk771_reader\n",
      "Evaluation vocab: 1,113 of 1,113\n",
      "Spearman r: 0.611\n",
      "========================================\n",
      "men_reader\n",
      "Evaluation vocab: 751 of 751\n",
      "Spearman r: 0.715\n",
      "========================================\n",
      "Mean Spearman r: 0.648\n"
     ]
    },
    {
     "data": {
      "text/plain": [
       "{'wordsim353_reader': 0.6135981305407192,\n",
       " 'mturk287_reader': 0.6511713515867035,\n",
       " 'mturk771_reader': 0.6106626587120605,\n",
       " 'men_reader': 0.7150233970674597}"
      ]
     },
     "execution_count": 22,
     "metadata": {},
     "output_type": "execute_result"
    }
   ],
   "source": [
    "full_word_similarity_evaluation(giga20_glv_200, verbose=True)"
   ]
  },
  {
   "cell_type": "code",
   "execution_count": 24,
   "metadata": {
    "collapsed": false
   },
   "outputs": [
    {
     "data": {
      "text/plain": [
       "(5000, 100)"
      ]
     },
     "execution_count": 24,
     "metadata": {},
     "output_type": "execute_result"
    }
   ],
   "source": [
    "giga_20_glv_200_lsa_100 = vsm.lsa(giga20_glv_200, k=100)\n",
    "giga_20_glv_200_lsa_100.shape"
   ]
  },
  {
   "cell_type": "code",
   "execution_count": 25,
   "metadata": {
    "collapsed": false
   },
   "outputs": [
    {
     "name": "stdout",
     "output_type": "stream",
     "text": [
      "========================================\n",
      "wordsim353_reader\n",
      "Evaluation vocab: 418 of 437\n",
      "Spearman r: 0.612\n",
      "========================================\n",
      "mturk287_reader\n",
      "Evaluation vocab: 499 of 499\n",
      "Spearman r: 0.643\n",
      "========================================\n",
      "mturk771_reader\n",
      "Evaluation vocab: 1,113 of 1,113\n",
      "Spearman r: 0.596\n",
      "========================================\n",
      "men_reader\n",
      "Evaluation vocab: 751 of 751\n",
      "Spearman r: 0.701\n",
      "========================================\n",
      "Mean Spearman r: 0.638\n"
     ]
    },
    {
     "data": {
      "text/plain": [
       "{'wordsim353_reader': 0.6117224895808019,\n",
       " 'mturk287_reader': 0.6430782745826111,\n",
       " 'mturk771_reader': 0.5959731524510422,\n",
       " 'men_reader': 0.7008683794802394}"
      ]
     },
     "execution_count": 25,
     "metadata": {},
     "output_type": "execute_result"
    }
   ],
   "source": [
    "full_word_similarity_evaluation(giga_20_glv_200_lsa_100, verbose=True)"
   ]
  },
  {
   "cell_type": "code",
   "execution_count": 32,
   "metadata": {
    "collapsed": false
   },
   "outputs": [
    {
     "name": "stderr",
     "output_type": "stream",
     "text": [
      "Iteration 5000: loss: 0.18185779824852943"
     ]
    },
    {
     "name": "stdout",
     "output_type": "stream",
     "text": [
      "========================================\n",
      "wordsim353_reader\n",
      "Evaluation vocab: 418 of 437\n",
      "Spearman r: 0.558\n",
      "========================================\n",
      "mturk287_reader\n",
      "Evaluation vocab: 499 of 499\n",
      "Spearman r: 0.564\n",
      "========================================\n",
      "mturk771_reader\n",
      "Evaluation vocab: 1,113 of 1,113\n",
      "Spearman r: 0.522\n",
      "========================================\n",
      "men_reader\n",
      "Evaluation vocab: 751 of 751\n",
      "Spearman r: 0.650\n",
      "========================================\n",
      "Mean Spearman r: 0.573\n"
     ]
    },
    {
     "data": {
      "text/plain": [
       "{'wordsim353_reader': 0.5582259610521796,\n",
       " 'mturk287_reader': 0.5636694619409018,\n",
       " 'mturk771_reader': 0.5217411050288937,\n",
       " 'men_reader': 0.6500186941319609}"
      ]
     },
     "execution_count": 32,
     "metadata": {},
     "output_type": "execute_result"
    }
   ],
   "source": [
    "from tf_autoencoder import TfAutoencoder\n",
    "\n",
    "ae = TfAutoencoder(\n",
    "    max_iter=5000, hidden_dim=100, eta=0.01).fit(giga20_glv_200)\n",
    "\n",
    "full_word_similarity_evaluation(ae, verbose=True)"
   ]
  },
  {
   "cell_type": "code",
   "execution_count": 34,
   "metadata": {
    "collapsed": false
   },
   "outputs": [
    {
     "name": "stderr",
     "output_type": "stream",
     "text": [
      "Iteration 1000: loss: 12454.607421875"
     ]
    }
   ],
   "source": [
    "glove_model_long = GloVe(max_iter=1000, n=200)\n",
    "giga20_glv_200_long = glove_model_long.fit(giga20_ppmi.values)\n",
    "giga20_glv_200_long = pd.DataFrame(giga20_glv_200_long, index=giga20.index)"
   ]
  },
  {
   "cell_type": "code",
   "execution_count": null,
   "metadata": {
    "collapsed": true
   },
   "outputs": [],
   "source": []
  },
  {
   "cell_type": "code",
   "execution_count": 37,
   "metadata": {
    "collapsed": false
   },
   "outputs": [
    {
     "name": "stdout",
     "output_type": "stream",
     "text": [
      "========================================\n",
      "wordsim353_reader\n",
      "Evaluation vocab: 418 of 437\n",
      "Spearman r: 0.614\n",
      "========================================\n",
      "mturk287_reader\n",
      "Evaluation vocab: 499 of 499\n",
      "Spearman r: 0.651\n",
      "========================================\n",
      "mturk771_reader\n",
      "Evaluation vocab: 1,113 of 1,113\n",
      "Spearman r: 0.611\n",
      "========================================\n",
      "men_reader\n",
      "Evaluation vocab: 751 of 751\n",
      "Spearman r: 0.715\n",
      "========================================\n",
      "Mean Spearman r: 0.648\n"
     ]
    },
    {
     "data": {
      "text/plain": [
       "{'wordsim353_reader': 0.6135981305407192,\n",
       " 'mturk287_reader': 0.6511713515867035,\n",
       " 'mturk771_reader': 0.6106626587120605,\n",
       " 'men_reader': 0.7150233970674597}"
      ]
     },
     "execution_count": 37,
     "metadata": {},
     "output_type": "execute_result"
    }
   ],
   "source": [
    "full_word_similarity_evaluation(giga20_glv_200, verbose=True)"
   ]
  },
  {
   "cell_type": "code",
   "execution_count": 40,
   "metadata": {
    "collapsed": false
   },
   "outputs": [],
   "source": [
    "from nltk.corpus import wordnet as wn\n",
    "import retrofitting\n",
    "from retrofitting import Retrofitter\n",
    "\n",
    "def get_wordnet_edges():\n",
    "    edges = defaultdict(set)\n",
    "    for ss in wn.all_synsets():\n",
    "        lem_names = {lem.name() for lem in ss.lemmas()}\n",
    "        for lem in lem_names:\n",
    "            edges[lem] |= lem_names\n",
    "    return edges\n",
    "wn_edges = get_wordnet_edges()"
   ]
  },
  {
   "cell_type": "code",
   "execution_count": 41,
   "metadata": {
    "collapsed": true
   },
   "outputs": [],
   "source": [
    "def convert_edges_to_indices(edges, Q):\n",
    "    lookup = dict(zip(Q.index, range(Q.shape[0])))\n",
    "    index_edges = defaultdict(set)\n",
    "    for start, finish_nodes in edges.items():\n",
    "        s = lookup.get(start)\n",
    "        if s:\n",
    "            f = {lookup[n] for n in finish_nodes if n in lookup}\n",
    "            if f:\n",
    "                index_edges[s] = f\n",
    "    return index_edges"
   ]
  },
  {
   "cell_type": "code",
   "execution_count": 43,
   "metadata": {
    "collapsed": false
   },
   "outputs": [
    {
     "name": "stderr",
     "output_type": "stream",
     "text": [
      "Converged at iteration 7; change was 0.0095 "
     ]
    }
   ],
   "source": [
    "wn_index_edges = convert_edges_to_indices(wn_edges, giga20_glv_200)\n",
    "wn_retro = Retrofitter(verbose=True)\n",
    "X_retro = wn_retro.fit(giga20_glv_200, wn_index_edges)"
   ]
  },
  {
   "cell_type": "code",
   "execution_count": 44,
   "metadata": {
    "collapsed": false
   },
   "outputs": [
    {
     "name": "stdout",
     "output_type": "stream",
     "text": [
      "========================================\n",
      "wordsim353_reader\n",
      "Evaluation vocab: 418 of 437\n",
      "Spearman r: 0.653\n",
      "========================================\n",
      "mturk287_reader\n",
      "Evaluation vocab: 499 of 499\n",
      "Spearman r: 0.661\n",
      "========================================\n",
      "mturk771_reader\n",
      "Evaluation vocab: 1,113 of 1,113\n",
      "Spearman r: 0.625\n",
      "========================================\n",
      "men_reader\n",
      "Evaluation vocab: 751 of 751\n",
      "Spearman r: 0.729\n",
      "========================================\n",
      "Mean Spearman r: 0.667\n"
     ]
    },
    {
     "data": {
      "text/plain": [
       "{'wordsim353_reader': 0.653486228590931,\n",
       " 'mturk287_reader': 0.6612496235239599,\n",
       " 'mturk771_reader': 0.6250638479360171,\n",
       " 'men_reader': 0.7285594541575852}"
      ]
     },
     "execution_count": 44,
     "metadata": {},
     "output_type": "execute_result"
    }
   ],
   "source": [
    "full_word_similarity_evaluation(X_retro, verbose=True)"
   ]
  },
  {
   "cell_type": "markdown",
   "metadata": {},
   "source": [
    "## Bake-off submission\n",
    "\n",
    "1. The name of the count matrix you started with (must be one in `vsmdata`).\n",
    "1. A description of the steps you took to create your bake-off VSM – must be different from the above baseline.\n",
    "1. Your Spearman r value for each of the four evaluation datasets and your average across all four.\n",
    "\n",
    "Submission URL: https://canvas.stanford.edu/courses/83399/assignments/128421"
   ]
  }
 ],
 "metadata": {
  "kernelspec": {
   "display_name": "conda_default",
   "language": "python",
   "name": "conda_default"
  },
  "language_info": {
   "codemirror_mode": {
    "name": "ipython",
    "version": 3
   },
   "file_extension": ".py",
   "mimetype": "text/x-python",
   "name": "python",
   "nbconvert_exporter": "python",
   "pygments_lexer": "ipython3",
   "version": "3.6.5"
  },
  "widgets": {
   "state": {},
   "version": "1.1.2"
  }
 },
 "nbformat": 4,
 "nbformat_minor": 2
}
